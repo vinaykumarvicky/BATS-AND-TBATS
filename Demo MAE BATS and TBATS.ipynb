{
 "cells": [
  {
   "cell_type": "code",
   "execution_count": 1,
   "id": "251e0b49",
   "metadata": {},
   "outputs": [],
   "source": [
    "import pandas as pd\n",
    "import numpy as np\n",
    "import matplotlib.pyplot as plt\n",
    "\n",
    "%matplotlib inline"
   ]
  },
  {
   "cell_type": "markdown",
   "id": "ac17981d",
   "metadata": {},
   "source": [
    "## Exploration "
   ]
  },
  {
   "cell_type": "code",
   "execution_count": 2,
   "id": "c5618e52",
   "metadata": {},
   "outputs": [
    {
     "data": {
      "text/html": [
       "<div>\n",
       "<style scoped>\n",
       "    .dataframe tbody tr th:only-of-type {\n",
       "        vertical-align: middle;\n",
       "    }\n",
       "\n",
       "    .dataframe tbody tr th {\n",
       "        vertical-align: top;\n",
       "    }\n",
       "\n",
       "    .dataframe thead th {\n",
       "        text-align: right;\n",
       "    }\n",
       "</style>\n",
       "<table border=\"1\" class=\"dataframe\">\n",
       "  <thead>\n",
       "    <tr style=\"text-align: right;\">\n",
       "      <th></th>\n",
       "      <th>date_time</th>\n",
       "      <th>traffic_volume</th>\n",
       "    </tr>\n",
       "  </thead>\n",
       "  <tbody>\n",
       "    <tr>\n",
       "      <th>0</th>\n",
       "      <td>9/29/2016 17:00</td>\n",
       "      <td>5551.0</td>\n",
       "    </tr>\n",
       "    <tr>\n",
       "      <th>1</th>\n",
       "      <td>9/29/2016 18:00</td>\n",
       "      <td>4132.0</td>\n",
       "    </tr>\n",
       "    <tr>\n",
       "      <th>2</th>\n",
       "      <td>9/29/2016 19:00</td>\n",
       "      <td>3435.0</td>\n",
       "    </tr>\n",
       "    <tr>\n",
       "      <th>3</th>\n",
       "      <td>9/29/2016 20:00</td>\n",
       "      <td>2765.0</td>\n",
       "    </tr>\n",
       "    <tr>\n",
       "      <th>4</th>\n",
       "      <td>9/29/2016 21:00</td>\n",
       "      <td>2443.0</td>\n",
       "    </tr>\n",
       "  </tbody>\n",
       "</table>\n",
       "</div>"
      ],
      "text/plain": [
       "         date_time  traffic_volume\n",
       "0  9/29/2016 17:00          5551.0\n",
       "1  9/29/2016 18:00          4132.0\n",
       "2  9/29/2016 19:00          3435.0\n",
       "3  9/29/2016 20:00          2765.0\n",
       "4  9/29/2016 21:00          2443.0"
      ]
     },
     "execution_count": 2,
     "metadata": {},
     "output_type": "execute_result"
    }
   ],
   "source": [
    "data2 = pd.read_csv('daily_traffic.csv')\n",
    "data2 = data2.dropna()\n",
    "data2.head()"
   ]
  },
  {
   "cell_type": "code",
   "execution_count": 3,
   "id": "743569cf",
   "metadata": {},
   "outputs": [
    {
     "data": {
      "text/html": [
       "<div>\n",
       "<style scoped>\n",
       "    .dataframe tbody tr th:only-of-type {\n",
       "        vertical-align: middle;\n",
       "    }\n",
       "\n",
       "    .dataframe tbody tr th {\n",
       "        vertical-align: top;\n",
       "    }\n",
       "\n",
       "    .dataframe thead th {\n",
       "        text-align: right;\n",
       "    }\n",
       "</style>\n",
       "<table border=\"1\" class=\"dataframe\">\n",
       "  <thead>\n",
       "    <tr style=\"text-align: right;\">\n",
       "      <th></th>\n",
       "      <th>date_time</th>\n",
       "      <th>traffic_volume</th>\n",
       "    </tr>\n",
       "  </thead>\n",
       "  <tbody>\n",
       "    <tr>\n",
       "      <th>5000</th>\n",
       "      <td>11-04-2013 14:00</td>\n",
       "      <td>4562</td>\n",
       "    </tr>\n",
       "    <tr>\n",
       "      <th>5001</th>\n",
       "      <td>11-04-2013 15:00</td>\n",
       "      <td>4797</td>\n",
       "    </tr>\n",
       "    <tr>\n",
       "      <th>5002</th>\n",
       "      <td>11-04-2013 16:00</td>\n",
       "      <td>5668</td>\n",
       "    </tr>\n",
       "    <tr>\n",
       "      <th>5003</th>\n",
       "      <td>11-04-2013 17:00</td>\n",
       "      <td>5029</td>\n",
       "    </tr>\n",
       "    <tr>\n",
       "      <th>5004</th>\n",
       "      <td>11-04-2013 18:00</td>\n",
       "      <td>3803</td>\n",
       "    </tr>\n",
       "    <tr>\n",
       "      <th>...</th>\n",
       "      <td>...</td>\n",
       "      <td>...</td>\n",
       "    </tr>\n",
       "    <tr>\n",
       "      <th>9995</th>\n",
       "      <td>20-11-2013 04:00</td>\n",
       "      <td>811</td>\n",
       "    </tr>\n",
       "    <tr>\n",
       "      <th>9996</th>\n",
       "      <td>20-11-2013 05:00</td>\n",
       "      <td>2832</td>\n",
       "    </tr>\n",
       "    <tr>\n",
       "      <th>9997</th>\n",
       "      <td>20-11-2013 06:00</td>\n",
       "      <td>5990</td>\n",
       "    </tr>\n",
       "    <tr>\n",
       "      <th>9998</th>\n",
       "      <td>20-11-2013 07:00</td>\n",
       "      <td>7107</td>\n",
       "    </tr>\n",
       "    <tr>\n",
       "      <th>9999</th>\n",
       "      <td>20-11-2013 08:00</td>\n",
       "      <td>6150</td>\n",
       "    </tr>\n",
       "  </tbody>\n",
       "</table>\n",
       "<p>5000 rows × 2 columns</p>\n",
       "</div>"
      ],
      "text/plain": [
       "             date_time  traffic_volume\n",
       "5000  11-04-2013 14:00            4562\n",
       "5001  11-04-2013 15:00            4797\n",
       "5002  11-04-2013 16:00            5668\n",
       "5003  11-04-2013 17:00            5029\n",
       "5004  11-04-2013 18:00            3803\n",
       "...                ...             ...\n",
       "9995  20-11-2013 04:00             811\n",
       "9996  20-11-2013 05:00            2832\n",
       "9997  20-11-2013 06:00            5990\n",
       "9998  20-11-2013 07:00            7107\n",
       "9999  20-11-2013 08:00            6150\n",
       "\n",
       "[5000 rows x 2 columns]"
      ]
     },
     "execution_count": 3,
     "metadata": {},
     "output_type": "execute_result"
    }
   ],
   "source": [
    "data = data2[5000:10000]\n",
    "data"
   ]
  },
  {
   "cell_type": "code",
   "execution_count": null,
   "id": "41f43d47",
   "metadata": {},
   "outputs": [],
   "source": [
    "fig, ax = plt.subplots(figsize=(14, 8))\n",
    "\n",
    "ax.plot(data['traffic_volume'])\n",
    "ax.set_xlabel('Time')\n",
    "ax.set_ylabel('Traffic volume')\n",
    "\n",
    "# plt.xticks(np.arange(7, 400, 24), ['Friday', 'Saturday', 'Sunday', 'Monday', 'Tuesday', 'Wednesday', 'Thursday', 'Friday', 'Saturday', 'Sunday', 'Monday', 'Tuesday', 'Wednesday', 'Thursday', 'Friday', 'Saturday', 'Sunday'])\n",
    "# plt.xlim(0, 400)\n",
    "\n",
    "fig.autofmt_xdate()\n",
    "plt.tight_layout()\n",
    "\n",
    "plt.show()"
   ]
  },
  {
   "cell_type": "code",
   "execution_count": null,
   "id": "58c097d6",
   "metadata": {},
   "outputs": [],
   "source": [
    "fig, ax = plt.subplots(figsize=(14, 8))\n",
    "\n",
    "ax.plot(data['traffic_volume'])\n",
    "ax.set_xlabel('Time')\n",
    "ax.set_ylabel('Traffic volume')\n",
    "\n",
    "plt.xticks(np.arange(7, 400, 24), ['Friday', 'Saturday', 'Sunday', 'Monday', 'Tuesday', 'Wednesday', 'Thursday', 'Friday', 'Saturday', 'Sunday', 'Monday', 'Tuesday', 'Wednesday', 'Thursday', 'Friday', 'Saturday', 'Sunday'])\n",
    "plt.xlim(0, 400)\n",
    "\n",
    "fig.autofmt_xdate()\n",
    "plt.tight_layout()\n",
    "\n",
    "plt.show()"
   ]
  },
  {
   "cell_type": "markdown",
   "id": "55674d93",
   "metadata": {},
   "source": [
    "## Modeling "
   ]
  },
  {
   "cell_type": "code",
   "execution_count": 4,
   "id": "be33621d",
   "metadata": {},
   "outputs": [],
   "source": [
    "y = data['traffic_volume']\n",
    "\n",
    "fh = np.arange(1, 168)"
   ]
  },
  {
   "cell_type": "code",
   "execution_count": null,
   "id": "0e13c35d",
   "metadata": {},
   "outputs": [],
   "source": [
    "#pip install sktime"
   ]
  },
  {
   "cell_type": "code",
   "execution_count": 5,
   "id": "e948346c",
   "metadata": {},
   "outputs": [],
   "source": [
    "from sktime.forecasting.model_selection import temporal_train_test_split\n",
    "\n",
    "y_train, y_test = temporal_train_test_split(y, test_size=168)"
   ]
  },
  {
   "cell_type": "code",
   "execution_count": null,
   "id": "6c7b7fa9",
   "metadata": {
    "scrolled": false
   },
   "outputs": [],
   "source": [
    "fig, ax = plt.subplots(figsize=(14, 8))\n",
    "\n",
    "ax.plot(y_train, ls='-', label='Train')\n",
    "ax.plot(y_test, ls='--', label='Test')\n",
    "ax.set_xlabel('time')\n",
    "ax.set_ylabel('Daily traffic volu,e')\n",
    "ax.legend(loc='best')\n",
    "\n",
    "fig.autofmt_xdate()\n",
    "plt.tight_layout()\n",
    "\n",
    "plt.show()"
   ]
  },
  {
   "cell_type": "markdown",
   "id": "966653a9",
   "metadata": {},
   "source": [
    "### Baseline "
   ]
  },
  {
   "cell_type": "code",
   "execution_count": 6,
   "id": "583caa40",
   "metadata": {},
   "outputs": [],
   "source": [
    "y_pred_baseline = y_train[-168:].values"
   ]
  },
  {
   "cell_type": "markdown",
   "id": "054b7bab",
   "metadata": {},
   "source": [
    "### BATS "
   ]
  },
  {
   "cell_type": "code",
   "execution_count": null,
   "id": "3ac8c26b",
   "metadata": {
    "scrolled": true
   },
   "outputs": [],
   "source": [
    "#pip install sktime[all_extras]"
   ]
  },
  {
   "cell_type": "code",
   "execution_count": null,
   "id": "94e4baf7",
   "metadata": {},
   "outputs": [],
   "source": [
    "#pip install tbats"
   ]
  },
  {
   "cell_type": "code",
   "execution_count": 7,
   "id": "bd23b635",
   "metadata": {},
   "outputs": [],
   "source": [
    "from sktime.forecasting.bats import BATS\n",
    "\n",
    "forecaster = BATS(use_box_cox=True,\n",
    "                  use_trend=False,\n",
    "                  use_damped_trend=False,\n",
    "                  sp=[24, 168])\n",
    "forecaster.fit(y_train)\n",
    "\n",
    "y_pred_BATS = forecaster.predict(fh)"
   ]
  },
  {
   "cell_type": "markdown",
   "id": "557536a4",
   "metadata": {},
   "source": [
    "### TBATS "
   ]
  },
  {
   "cell_type": "code",
   "execution_count": 8,
   "id": "28c4c212",
   "metadata": {},
   "outputs": [],
   "source": [
    "from sktime.forecasting.tbats import TBATS\n",
    "\n",
    "forecaster = TBATS(use_box_cox=True,\n",
    "                   use_trend=False,\n",
    "                   use_damped_trend=False,\n",
    "                   sp=[24, 168])\n",
    "forecaster.fit(y_train)\n",
    "\n",
    "y_pred_TBATS = forecaster.predict(fh)"
   ]
  },
  {
   "cell_type": "code",
   "execution_count": null,
   "id": "7072e713",
   "metadata": {},
   "outputs": [],
   "source": [
    "fig, ax = plt.subplots(figsize=(14, 8))\n",
    "\n",
    "ax.plot(y_train, ls='-', label='Train')\n",
    "ax.plot(y_test, ls='-', label='Test')\n",
    "ax.plot(y_test.index, y_pred_baseline, ls=':', label='Baseline')\n",
    "ax.plot(y_pred_BATS, ls='--', label='BATS')\n",
    "ax.plot(y_pred_TBATS, ls='-.', label='TBATS')\n",
    "ax.set_xlabel('time')\n",
    "ax.set_ylabel('Daily traffic volume')\n",
    "ax.legend(loc='best')\n",
    "\n",
    "fig.autofmt_xdate()\n",
    "plt.tight_layout()\n",
    "\n",
    "plt.show()"
   ]
  },
  {
   "cell_type": "code",
   "execution_count": null,
   "id": "8d04f750",
   "metadata": {},
   "outputs": [],
   "source": [
    "fig, ax = plt.subplots(figsize=(14, 8))\n",
    "\n",
    "ax.plot(y_train, ls='-', label='Train')\n",
    "ax.plot(y_test, ls='-', label='Test')\n",
    "ax.plot(y_test.index, y_pred_baseline, ls=':', label='Baseline')\n",
    "ax.plot(y_pred_BATS, ls='--', label='BATS')\n",
    "ax.plot(y_pred_TBATS, ls='-.', label='TBATS')\n",
    "ax.set_xlabel('time')\n",
    "ax.set_ylabel('Daily traffic volume')\n",
    "ax.legend(loc='best')\n",
    "\n",
    "fig.autofmt_xdate()\n",
    "plt.tight_layout()\n",
    "\n",
    "plt.xlim(800, 1000)\n",
    "plt.ylim(0, 8000)\n",
    "\n",
    "plt.show()"
   ]
  },
  {
   "cell_type": "code",
   "execution_count": 13,
   "id": "c3d228dd",
   "metadata": {},
   "outputs": [],
   "source": [
    "def mae(y_true, y_pred):\n",
    "    return round(np.mean(np.abs((y_true - y_pred))),2)"
   ]
  },
  {
   "cell_type": "code",
   "execution_count": 14,
   "id": "47e63323",
   "metadata": {},
   "outputs": [
    {
     "name": "stdout",
     "output_type": "stream",
     "text": [
      "MAE from baseline: 2403.29\n",
      "MAE from BATS: 1793.81\n",
      "MAE from TBATS: 1793.81\n"
     ]
    }
   ],
   "source": [
    "mae_baseline = mae(y_test, y_pred_baseline)\n",
    "mae_BATS = mae(y_test, y_pred_BATS)\n",
    "mae_TBATS = mae(y_test, y_pred_TBATS)\n",
    "\n",
    "print(f'MAE from baseline: {mae_baseline}')\n",
    "print(f'MAE from BATS: {mae_BATS}')\n",
    "print(f'MAE from TBATS: {mae_TBATS}')"
   ]
  },
  {
   "cell_type": "code",
   "execution_count": 16,
   "id": "c5e2fa4c",
   "metadata": {},
   "outputs": [
    {
     "data": {
      "image/png": "[encoded data removed]",
      "text/plain": [
       "<Figure size 432x288 with 1 Axes>"
      ]
     },
     "metadata": {
      "needs_background": "light"
     },
     "output_type": "display_data"
    }
   ],
   "source": [
    "fig, ax = plt.subplots()\n",
    "\n",
    "x = ['Baseline', 'BATS', 'TBATS']\n",
    "y = [mae_baseline, mae_BATS, mae_TBATS]\n",
    "\n",
    "ax.bar(x, y, width=0.4)\n",
    "ax.set_xlabel('Models')\n",
    "ax.set_ylabel('MAE (%)')\n",
    "ax.set_ylim(0, 3000)\n",
    "\n",
    "for index, value in enumerate(y):\n",
    "    plt.text(x=index, y=value + 1, s=str(round(value,2)), ha='center')\n",
    "\n",
    "plt.tight_layout()"
   ]
  },
  {
   "cell_type": "code",
   "execution_count": null,
   "id": "007cbe61",
   "metadata": {},
   "outputs": [],
   "source": []
  }
 ],
 "metadata": {
  "kernelspec": {
   "display_name": "Python 3 (ipykernel)",
   "language": "python",
   "name": "python3"
  },
  "language_info": {
   "codemirror_mode": {
    "name": "ipython",
    "version": 3
   },
   "file_extension": ".py",
   "mimetype": "text/x-python",
   "name": "python",
   "nbconvert_exporter": "python",
   "pygments_lexer": "ipython3",
   "version": "3.9.7"
  }
 },
 "nbformat": 4,
 "nbformat_minor": 5
}
